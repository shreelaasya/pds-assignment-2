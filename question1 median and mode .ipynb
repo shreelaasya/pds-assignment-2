{
  "nbformat": 4,
  "nbformat_minor": 0,
  "metadata": {
    "colab": {
      "provenance": []
    },
    "kernelspec": {
      "name": "python3",
      "display_name": "Python 3"
    },
    "language_info": {
      "name": "python"
    }
  },
  "cells": [
    {
      "cell_type": "code",
      "execution_count": 30,
      "metadata": {
        "colab": {
          "base_uri": "https://localhost:8080/"
        },
        "id": "jykWoRQU3mdJ",
        "outputId": "25674f1e-2beb-4bcb-c572-b446db138dc2"
      },
      "outputs": [
        {
          "output_type": "stream",
          "name": "stdout",
          "text": [
            "Unnamed: 0           0\n",
            "Name                 0\n",
            "Location             0\n",
            "Year                 0\n",
            "Kilometers_Driven    0\n",
            "Fuel_Type            0\n",
            "Transmission         0\n",
            "Owner_Type           0\n",
            "Mileage              0\n",
            "Engine               0\n",
            "Power                0\n",
            "Seats                0\n",
            "New_Price            0\n",
            "Price                0\n",
            "dtype: int64\n"
          ]
        }
      ],
      "source": [
        "import pandas as pd\n",
        "import numpy as np\n",
        "from sklearn.preprocessing import LabelEncoder\n",
        "\n",
        "\n",
        "\n",
        "laasya = pd.read_csv('/content/sample_data/train.csv')\n",
        "\n",
        "\n",
        "#print(laasya.isnull().sum())\n",
        "for column in laasya.columns:\n",
        "    if pd.api.types.is_numeric_dtype(laasya[column]):\n",
        "        laasya[column].fillna(laasya[column].median(), inplace=True)\n",
        "    else:\n",
        "        laasya[column].fillna(laasya[column].mode()[0], inplace=True)\n",
        "print(laasya.isnull().sum())\n"
      ]
    },
    {
      "cell_type": "markdown",
      "source": [
        "# New Section"
      ],
      "metadata": {
        "id": "NGNIf4_Y4E_W"
      }
    }
  ]
}