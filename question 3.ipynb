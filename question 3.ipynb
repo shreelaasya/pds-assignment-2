{
  "nbformat": 4,
  "nbformat_minor": 0,
  "metadata": {
    "colab": {
      "provenance": []
    },
    "kernelspec": {
      "name": "python3",
      "display_name": "Python 3"
    },
    "language_info": {
      "name": "python"
    }
  },
  "cells": [
    {
      "cell_type": "code",
      "execution_count": 13,
      "metadata": {
        "colab": {
          "base_uri": "https://localhost:8080/"
        },
        "id": "jykWoRQU3mdJ",
        "outputId": "fa5cb53b-f17d-44f1-a2d7-4051a77d3889"
      },
      "outputs": [
        {
          "output_type": "stream",
          "name": "stdout",
          "text": [
            "Unnamed: 0                  int64\n",
            "Name                       object\n",
            "Location                   object\n",
            "Year                        int64\n",
            "Kilometers_Driven           int64\n",
            "Owner_Type                 object\n",
            "Mileage                    object\n",
            "Engine                     object\n",
            "Power                      object\n",
            "Seats                     float64\n",
            "New_Price                  object\n",
            "Price                     float64\n",
            "Fuel_Type_Diesel            uint8\n",
            "Fuel_Type_Electric          uint8\n",
            "Fuel_Type_Petrol            uint8\n",
            "Transmission_Automatic      uint8\n",
            "Transmission_Manual         uint8\n",
            "dtype: object\n"
          ]
        }
      ],
      "source": [
        "import pandas as pd\n",
        "import re\n",
        "url = \"/content/sample_data/train.csv\"\n",
        "laasya = pd.read_csv(url)\n",
        "#print(data.dtypes)\n",
        "laasya = pd.get_dummies(laasya, columns=['Fuel_Type', 'Transmission'])\n",
        "print(laasya.dtypes)\n"
      ]
    }
  ]
}