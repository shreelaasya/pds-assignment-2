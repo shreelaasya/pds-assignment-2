{
  "nbformat": 4,
  "nbformat_minor": 0,
  "metadata": {
    "colab": {
      "provenance": []
    },
    "kernelspec": {
      "name": "python3",
      "display_name": "Python 3"
    },
    "language_info": {
      "name": "python"
    }
  },
  "cells": [
    {
      "cell_type": "code",
      "execution_count": 27,
      "metadata": {
        "colab": {
          "base_uri": "https://localhost:8080/"
        },
        "id": "jykWoRQU3mdJ",
        "outputId": "9b1aab78-316c-4314-edff-06dce66ad1cb"
      },
      "outputs": [
        {
          "output_type": "stream",
          "name": "stdout",
          "text": [
            "   Unnamed: 0                              Name    Location  Year  \\\n",
            "0           1  Hyundai Creta 1.6 CRDi SX Option        Pune  2015   \n",
            "1           2                      Honda Jazz V     Chennai  2011   \n",
            "2           3                 Maruti Ertiga VDI     Chennai  2012   \n",
            "3           4   Audi A4 New 2.0 TDI Multitronic  Coimbatore  2013   \n",
            "4           6            Nissan Micra Diesel XV      Jaipur  2013   \n",
            "\n",
            "   Kilometers_Driven Fuel_Type Transmission Owner_Type     Mileage   Engine  \\\n",
            "0              41000    Diesel       Manual      First  19.67 kmpl  1582 CC   \n",
            "1              46000    Petrol       Manual      First    13 km/kg  1199 CC   \n",
            "2              87000    Diesel       Manual      First  20.77 kmpl  1248 CC   \n",
            "3              40670    Diesel    Automatic     Second   15.2 kmpl  1968 CC   \n",
            "4              86999    Diesel       Manual      First  23.08 kmpl  1461 CC   \n",
            "\n",
            "       Power  Seats  New_Price  Price  Car_Age  \n",
            "0  126.2 bhp    5.0        NaN  12.50        8  \n",
            "1   88.7 bhp    5.0  8.61 Lakh   4.50       12  \n",
            "2  88.76 bhp    7.0        NaN   6.00       11  \n",
            "3  140.8 bhp    5.0        NaN  17.74       10  \n",
            "4   63.1 bhp    5.0        NaN   3.50       10  \n"
          ]
        }
      ],
      "source": [
        "import pandas as pd\n",
        "import numpy as np\n",
        "from sklearn.preprocessing import LabelEncoder\n",
        "laasya = pd.read_csv('/content/sample_data/train.csv')\n",
        "current_year = pd.to_datetime('today').year\n",
        "laasya['Car_Age'] = current_year - laasya['Year']\n",
        "print(laasya.head())\n"
      ]
    },
    {
      "cell_type": "markdown",
      "source": [
        "# New Section"
      ],
      "metadata": {
        "id": "NGNIf4_Y4E_W"
      }
    }
  ]
}