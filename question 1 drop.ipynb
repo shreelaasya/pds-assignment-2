{
  "nbformat": 4,
  "nbformat_minor": 0,
  "metadata": {
    "colab": {
      "provenance": []
    },
    "kernelspec": {
      "name": "python3",
      "display_name": "Python 3"
    },
    "language_info": {
      "name": "python"
    }
  },
  "cells": [
    {
      "cell_type": "code",
      "execution_count": 15,
      "metadata": {
        "colab": {
          "base_uri": "https://localhost:8080/"
        },
        "id": "jykWoRQU3mdJ",
        "outputId": "e7761b4f-e7c9-4e41-de6a-661c729ae173"
      },
      "outputs": [
        {
          "output_type": "stream",
          "name": "stdout",
          "text": [
            "Unnamed: 0              0\n",
            "Name                    0\n",
            "Location                0\n",
            "Year                    0\n",
            "Kilometers_Driven       0\n",
            "Fuel_Type               0\n",
            "Transmission            0\n",
            "Owner_Type              0\n",
            "Mileage                 2\n",
            "Engine                 36\n",
            "Power                  36\n",
            "Seats                  38\n",
            "New_Price            5032\n",
            "Price                   0\n",
            "dtype: int64\n"
          ]
        }
      ],
      "source": [
        "import pandas as pd\n",
        "import re\n",
        "url = \"/content/sample_data/train.csv\"\n",
        "laasya = pd.read_csv(url)\n",
        "print(laasya.isnull().sum())\n",
        "laasya.dropna(subset=['New_Price'], inplace=True)\n",
        "laasya.dropna(subset=['Mileage'], inplace=True)\n",
        "print(laasya.isnull().sum())\n",
        "#laasya.head()\n",
        "\n"
      ]
    }
  ]
}